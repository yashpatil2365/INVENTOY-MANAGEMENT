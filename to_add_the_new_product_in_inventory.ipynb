{
  "nbformat": 4,
  "nbformat_minor": 0,
  "metadata": {
    "colab": {
      "name": "to add the new product in inventory.ipynb",
      "provenance": []
    },
    "kernelspec": {
      "name": "python3",
      "display_name": "Python 3"
    },
    "language_info": {
      "name": "python"
    }
  },
  "cells": [
    {
      "cell_type": "code",
      "metadata": {
        "id": "UApPJDLxQmkd"
      },
      "source": [
        "fd=open('/record updated.json','r')\n",
        "r=fd.read()\n",
        "fd.close()"
      ],
      "execution_count": null,
      "outputs": []
    },
    {
      "cell_type": "code",
      "metadata": {
        "colab": {
          "base_uri": "https://localhost:8080/",
          "height": 815
        },
        "id": "OFpR_BsLRwuc",
        "outputId": "2fcdb29e-4011-4d3a-c820-5880e1a20bac"
      },
      "source": [
        "r  ####it is in the string format"
      ],
      "execution_count": null,
      "outputs": [
        {
          "output_type": "execute_result",
          "data": {
            "application/vnd.google.colaboratory.intrinsic+json": {
              "type": "string"
            },
            "text/plain": [
              "'{\"1234\": {\"product\": \"maggie\", \"quantity\": 500, \"cost\": 50, \"expiry_date\": \"3-01-2022\", \"category\": \"snacks\"}, \"5678\": {\"product\": \"5_star\", \"quantity\": 80, \"cost\": 20, \"expiry_date\": \"6-01-2022\", \"category\": \"chocolate\"}, \"9101\": {\"product\": \"masala_maggie\", \"quantity\": 60, \"cost\": 75, \"expiry_date\": \"3-01-2022\", \"category\": \"snacks\"}, \"4567\": {\"product\": \"dark_fantasy\", \"quantity\": 50, \"cost\": 60, \"expiry_date\": \"3-01-2023\", \"category\": \"cookie\"}, \"8901\": {\"product\": \"burger\", \"quantity\": 500, \"cost\": 50, \"expiry_date\": \"9-01-2022\", \"category\": \"fast_food\"}, \"2356\": {\"product\": \"potato_fries\", \"quantity\": 500, \"cost\": 50, \"expiry_date\": \"4-01-2022\", \"category\": \"fast_food\"}, \"1028\": {\"product\": \"fanta\", \"quantity\": 90, \"cost\": 40, \"expiry_date\": \"3-06-2022\", \"category\": \"cold_drinks\"}, \"1256\": {\"product\": \"monster\", \"quantity\": 500, \"cost\": 50, \"expiry_date\": \"1-01-2022\", \"category\": \"cold_drinks\"}, \"1935\": {\"product\": \"Slice\", \"quantity\": 500, \"cost\": 50, \"expiry_date\": \"1-01-2022\", \"category\": \"cold_drinks\"}, \"2309\": {\"product\": \"mango\", \"quantity\": 30, \"cost\": 70, \"expiry_date\": \"10-01-2022\", \"category\": \"fruits\"}, \"8357\": {\"product\": \"krack_jack\", \"quantity\": 500, \"cost\": 30, \"expiry_date\": \"3-01-2022\", \"category\": \"cookie\"}, \"1946\": {\"product\": \"parle_G\", \"quantity\": 500, \"cost\": 50, \"expiry_date\": \"3-01-2021\", \"category\": \"cookie\"}, \"2325\": {\"product\": \"patanjali_biscuit\", \"quantity\": 500, \"cost\": 90, \"expiry_date\": \"3-01-2022\", \"category\": \"cookie\"}, \"5091\": {\"product\": \"mari_gold\", \"quantity\": 500, \"cost\": 50, \"expiry_date\": \"3-01-202\", \"category\": \"cookie\"}, \"2342\": {\"product\": \"tiger_cookie\", \"quantity\": 500, \"cost\": 50, \"expiry_date\": \"3-01-2022\", \"catego4ry\": \"cookie\"}, \"1432\": {\"product\": \"doritos\", \"quantity\": 500, \"cost\": 89, \"expiry_date\": \"3-01-2022\", \"category\": \"snacks\"}, \"6835\": {\"product\": \"lays\", \"quantity\": 500, \"cost\": 79, \"expiry_date\": \"3-01-2022\", \"category\": \"snacks\"}, \"7810\": {\"product\": \"puffcorn\", \"quantity\": 500, \"cost\": 50, \"expiry_date\": \"3-01-2022\", \"category\": \"snacks\"}, \"3410\": {\"product\": \"red_lays\", \"quantity\": 500, \"cost\": 50, \"expiry_date\": \"3-01-2021\", \"category\": \"snacks\"}, \"1306\": {\"product\": \"chocos\", \"quantity\": 500, \"cost\": 50, \"expiry_date\": \"3-07-2022\", \"category\": \"snacks\"}, \"7066\": {\"product\": \"apple\", \"quantity\": 600, \"cost\": 40, \"expiry_date\": \"3-08-2021\", \"category\": \"fruits\"}, \"8923\": {\"product\": \"banana\", \"quantity\": 500, \"cost\": 50, \"expiry_date\": \"3-09-2022\", \"category\": \"fruits\"}, \"7023\": {\"product\": \"green_apple\", \"quantity\": 500, \"cost\": 50, \"expiry_date\": \"3-01-2022\", \"category\": \"fruits\"}, \"8965\": {\"product\": \"coconut\", \"quantity\": 500, \"cost\": 50, \"expiry_date\": \"3-09-2022\", \"category\": \"fruits\"}, \"4321\": {\"product\": \"pineapple\", \"quantity\": 500, \"cost\": 50, \"expiry_date\": \"3-02-2022\", \"category\": \"fruits\"}, \"8523\": {\"product\": \"watermelon\", \"quantity\": 500, \"cost\": 50, \"expiry_date\": \"3-07-2022\", \"category\": \"fruits\"}, \"6565\": {\"product\": \"carrot\", \"quantity\": 50, \"cost\": 50, \"expiry_date\": \"3-07-2022\", \"category\": \"vegetable\"}, \"2344\": {\"product\": \"methi\", \"quantity\": 900, \"cost\": 50, \"expiry_date\": \"3-07-2021\", \"category\": \"vegetable\"}, \"1122\": {\"product\": \"palak\", \"quantity\": 57, \"cost\": 60, \"expiry_date\": \"3-07-2021\", \"category\": \"vegetable\"}, \"3344\": {\"product\": \"tomato\", \"quantity\": 90, \"cost\": 90, \"expiry_date\": \"3-05-2021\", \"category\": \"vegetable\"}, \"5566\": {\"product\": \"cabbage\", \"quantity\": 80, \"cost\": 50, \"expiry_date\": \"3-12-2024\", \"category\": \"vegetable\"}, \"7788\": {\"product\": \"Ladyfingers\", \"quantity\": 50, \"cost\": 70, \"expiry_date\": \"3-08-2021\", \"category\": \"vegetable\"}, \"9910\": {\"product\": \"onion\", \"quantity\": 67, \"cost\": 30, \"expiry_date\": \"3-09-2022\", \"category\": \"vegetable\"}, \"1112\": {\"product\": \"Radish\", \"quantity\": 500, \"cost\": 90, \"expiry_date\": \"3-02-2022\", \"category\": \"vegetable\"}, \"1213\": {\"product\": \"poatato\", \"quantity\": 50, \"cost\": 20, \"expiry_date\": \"5-01-2022\", \"category\": \"vegetable\"}, \"1341\": {\"product\": \"silk\", \"quantity\": 500, \"cost\": 10, \"expiry_date\": \"6-04-2022\", \"category\": \"chocolate\"}, \"1414\": {\"product\": \"kitkat\", \"quantity\": 100, \"cost\": 30, \"expiry_date\": \"7-05-2022\", \"category\": \"chocolate\"}, \"7878\": {\"product\": \"dery_milk\", \"quantity\": 5100, \"cost\": 50, \"expiry_date\": \"8-06-2022\", \"category\": \"chocolate\"}, \"5555\": {\"product\": \"melody\", \"quantity\": 100, \"cost\": 90, \"expiry_date\": \"9-07-2022\", \"category\": \"chocolate\"}, \"1617\": {\"product\": \"kiss_me\", \"quantity\": 100, \"cost\": 80, \"expiry_date\": \"30-08-2022\", \"category\": \"chocolate\"}, \"2020\": {\"product\": \"falero\", \"quantity\": 200, \"cost\": 70, \"expiry_date\": \"12-12-2022\", \"category\": \"vegetable\"}, \"2122\": {\"product\": \"falero_mango\", \"quantity\": 300, \"cost\": 60, \"expiry_date\": \"2-11-2022\", \"category\": \"vegetable\"}, \"2234\": {\"product\": \"large_doritos\", \"quantity\": 600, \"cost\": 110, \"expiry_date\": \"3-07-2021\", \"category\": \"snacks\"}, \"9910\": {\"category\": \"vegetable\", \"cost\": 30, \"product\": \"onion\", \"expiry_date\": \"3-09-2022\"}, \"1111\": {\"category\": \"fruits\", \"cost\": 10, \"product\": \"annar\", \"expiry_date\": \"1-01-1000\"}}'"
            ]
          },
          "metadata": {},
          "execution_count": 52
        }
      ]
    },
    {
      "cell_type": "code",
      "metadata": {
        "id": "nTNXD5f9Rwwx"
      },
      "source": [
        "records=json.loads(r) #####to convert the json string format to dictonary "
      ],
      "execution_count": null,
      "outputs": []
    },
    {
      "cell_type": "code",
      "metadata": {
        "id": "2NhORZWKSAB0"
      },
      "source": [
        "import json "
      ],
      "execution_count": null,
      "outputs": []
    },
    {
      "cell_type": "code",
      "metadata": {
        "id": "9NBPvp1-RwzE"
      },
      "source": [
        "records ##### now it is in dictonary fromat"
      ],
      "execution_count": null,
      "outputs": []
    },
    {
      "cell_type": "code",
      "metadata": {
        "colab": {
          "base_uri": "https://localhost:8080/"
        },
        "id": "ucjGveA4Rw1j",
        "outputId": "fa2d56ed-787c-48be-ec6e-582fbcb75a0b"
      },
      "source": [
        "product_id=int(input('enter the product id:'))\n",
        "category=str(input(\"enter the category :\"))\n",
        "cost=int(input('enter the cost:'))\n",
        "quantity=int(input('enter the quantity:'))\n",
        "product=str(input('enter the product:'))\n",
        "expiry_date=str(input('enter the expiry_date:'))\n",
        "\n",
        "records[product_id]={'category':category,'cost':cost,'product':product,'expiry_date':expiry_date}\n",
        "js=json.dumps(records)\n",
        "\n",
        "fd=open('/records (1).json','w')\n",
        "fd.write(js)\n",
        "fd.close()\n",
        "\n"
      ],
      "execution_count": null,
      "outputs": [
        {
          "name": "stdout",
          "output_type": "stream",
          "text": [
            "enter the product id:0101\n",
            "enter the category :asdf\n",
            "enter the cost:4000000\n",
            "enter the quantity:10\n",
            "enter the product:mouse\n",
            "enter the expiry_date:0\n"
          ]
        }
      ]
    },
    {
      "cell_type": "code",
      "metadata": {
        "id": "SyMGMFJT38AE"
      },
      "source": [
        "/record updated.json"
      ],
      "execution_count": null,
      "outputs": []
    },
    {
      "cell_type": "code",
      "metadata": {
        "id": "fT1nbnQz38Cd"
      },
      "source": [
        ""
      ],
      "execution_count": null,
      "outputs": []
    },
    {
      "cell_type": "code",
      "metadata": {
        "id": "KZ-unE3v38GA"
      },
      "source": [
        ""
      ],
      "execution_count": null,
      "outputs": []
    },
    {
      "cell_type": "code",
      "metadata": {
        "id": "GpvRYQlJRxHO"
      },
      "source": [
        "records"
      ],
      "execution_count": null,
      "outputs": []
    }
  ]
}