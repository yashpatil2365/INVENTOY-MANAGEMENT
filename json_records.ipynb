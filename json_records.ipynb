{
  "nbformat": 4,
  "nbformat_minor": 0,
  "metadata": {
    "colab": {
      "name": "json.records",
      "provenance": [],
      "collapsed_sections": []
    },
    "kernelspec": {
      "name": "python3",
      "display_name": "Python 3"
    },
    "language_info": {
      "name": "python"
    }
  },
  "cells": [
    {
      "cell_type": "code",
      "metadata": {
        "id": "n3L9pGAGRQG3"
      },
      "source": [
        "import json\n"
      ],
      "execution_count": null,
      "outputs": []
    },
    {
      "cell_type": "code",
      "metadata": {
        "id": "tB-xdSAdVn_K"
      },
      "source": [
        "records ={'1234':{'product':'maggie','quantity':500,'cost':50,'expiry_date':'3-01-2022','category':'snacks'},\n",
        "          '5678':{'product':'5_star','quantity':80,'cost':20,'expiry_date':'6-01-2022','category':'chocolate'},\n",
        "          '9101':{'product':'masala_maggie','quantity':60,'cost':75,'expiry_date':'3-01-2022','category':'snacks'},\n",
        "          '4567':{'product':'kurkure','quantity':200,'cost':10,'expiry_date':'8-01-2022','category':'snacks'},\n",
        "          '8901':{'product':'burger','quantity':500,'cost':50,'expiry_date':'9-01-2022','category':'fast_food'},\n",
        "          '2356':{'product':'potato_fries','quantity':500,'cost':50,'expiry_date':'4-01-2022','category':'fast_food'},\n",
        "          '1028':{'product':'fanta','quantity':90,'cost':40,'expiry_date':'3-06-2022','category':'cold_drinks'},\n",
        "          '1256':{'product':'monster','quantity':500,'cost':50,'expiry_date':'1-01-2022','category':'cold_drinks'},\n",
        "          '1935':{'product':'Slice','quantity':500,'cost':50,'expiry_date':'1-01-2022','category':'cold_drinks'},\n",
        "          '2309':{'product':'mango','quantity':30,'cost':70,'expiry_date':'10-01-2022','category':'fruits'},\n",
        "          '4567':{'product':'dark_fantasy','quantity':50,'cost':60,'expiry_date':'3-01-2023','category':'cookie'},\n",
        "          '8357':{'product':'krack_jack','quantity':500,'cost':30,'expiry_date':'3-01-2022','category':'cookie'},\n",
        "          '1946':{'product':'parle_G','quantity':500,'cost':50,'expiry_date':'3-01-2021','category':'cookie'},\n",
        "          '2325':{'product':'patanjali_biscuit','quantity':500,'cost':90,'expiry_date':'3-01-2022','category':'cookie'},\n",
        "          '5091':{'product':'mari_gold','quantity':500,'cost':50,'expiry_date':'3-01-202','category':'cookie'},\n",
        "          '2342':{'product':'tiger_cookie','quantity':500,'cost':50,'expiry_date':'3-01-2022','catego4ry':'cookie'},\n",
        "          '1432':{'product':'doritos','quantity':500,'cost':89,'expiry_date':'3-01-2022','category':'snacks'},\n",
        "          '6835':{'product':'lays','quantity':500,'cost':79,'expiry_date':'3-01-2022','category':'snacks'},\n",
        "          '7810':{'product':'puffcorn','quantity':500,'cost':50,'expiry_date':'3-01-2022','category':'snacks'},\n",
        "          '3410':{'product':'red_lays','quantity':500,'cost':50,'expiry_date':'3-01-2021','category':'snacks'},\n",
        "          '1306':{'product':'chocos','quantity':500,'cost':50,'expiry_date':'3-07-2022','category':'snacks'},\n",
        "          '7066':{'product':'apple','quantity':600,'cost':40,'expiry_date':'3-08-2021','category':'fruits'},\n",
        "          '8923':{'product':'banana','quantity':500,'cost':50,'expiry_date':'3-09-2022','category':'fruits'},\n",
        "          '7023':{'product':'green_apple','quantity':500,'cost':50,'expiry_date':'3-01-2022','category':'fruits'},\n",
        "          '8965':{'product':'coconut','quantity':500,'cost':50,'expiry_date':'3-09-2022','category':'fruits'},\n",
        "          '4321':{'product':'pineapple','quantity':500,'cost':50,'expiry_date':'3-02-2022','category':'fruits'},\n",
        "          '8523':{'product':'watermelon','quantity':500,'cost':50,'expiry_date':'3-07-2022','category':'fruits'},\n",
        "          '6565':{'product':'carrot','quantity':50,'cost':50,'expiry_date':'3-07-2022','category':'vegetable'},\n",
        "          '2344':{'product':'methi','quantity':900,'cost':50,'expiry_date':'3-07-2021','category':'vegetable'},\n",
        "          '1122':{'product':'palak','quantity':57,'cost':60,'expiry_date':'3-07-2021','category':'vegetable'},\n",
        "          '3344':{'product':'tomato','quantity':90,'cost':90,'expiry_date':'3-05-2021','category':'vegetable'},\n",
        "          '5566':{'product':'cabbage','quantity':80,'cost':50,'expiry_date':'3-12-2024','category':'vegetable'},\n",
        "          '7788':{'product':'Ladyfingers','quantity':50,'cost':70,'expiry_date':'3-08-2021','category':'vegetable'},\n",
        "          '9910':{'product':'onion','quantity':67,'cost':30,'expiry_date':'3-09-2022','category':'vegetable'},\n",
        "          '1112':{'product':'Radish','quantity':500,'cost':90,'expiry_date':'3-02-2022','category':'vegetable'},\n",
        "          '1213':{'product':'poatato','quantity':50,'cost':20,'expiry_date':'5-01-2022','category':'vegetable'},\n",
        "          '1341':{'product':'silk','quantity':500,'cost':10,'expiry_date':'6-04-2022','category':'chocolate'},\n",
        "          '1414':{'product':'kitkat','quantity':100,'cost':30,'expiry_date':'7-05-2022','category':'chocolate'},\n",
        "          '7878':{'product':'dery_milk','quantity':5100,'cost':50,'expiry_date':'8-06-2022','category':'chocolate'},\n",
        "          '5555':{'product':'melody','quantity':100,'cost':90,'expiry_date':'9-07-2022','category':'chocolate'},\n",
        "          '1617':{'product':'kiss_me','quantity':100,'cost':80,'expiry_date':'30-08-2022','category':'chocolate'},\n",
        "          '2020':{'product':'falero','quantity':200,'cost':70,'expiry_date':'12-12-2022','category':'vegetable'},\n",
        "          '2122':{'product':'falero_mango','quantity':300,'cost':60,'expiry_date':'2-11-2022','category':'vegetable'},\n",
        "          '2234':{'product':'large_doritos','quantity':600,'cost':110,'expiry_date':'3-07-2021','category':'snacks'}}\n"
      ],
      "execution_count": null,
      "outputs": []
    },
    {
      "cell_type": "code",
      "metadata": {
        "id": "UIGjMZXAVoF8"
      },
      "source": [
        "js=json.dumps(records)\n",
        "fd=open('records.json','w')\n",
        "fd.write(js)\n",
        "fd.close()\n",
        "\n"
      ],
      "execution_count": null,
      "outputs": []
    },
    {
      "cell_type": "code",
      "metadata": {
        "id": "dKM8o_mzVoKW"
      },
      "source": [
        "\n",
        "  "
      ],
      "execution_count": null,
      "outputs": []
    },
    {
      "cell_type": "code",
      "metadata": {
        "id": "3DXnonoHVoMd"
      },
      "source": [
        ""
      ],
      "execution_count": null,
      "outputs": []
    },
    {
      "cell_type": "code",
      "metadata": {
        "id": "NyCw7hAZVoOm"
      },
      "source": [
        ""
      ],
      "execution_count": null,
      "outputs": []
    },
    {
      "cell_type": "code",
      "metadata": {
        "id": "ju3h4ZN9VoQo"
      },
      "source": [
        ""
      ],
      "execution_count": null,
      "outputs": []
    },
    {
      "cell_type": "code",
      "metadata": {
        "id": "_7zp1_tdVoSn"
      },
      "source": [
        ""
      ],
      "execution_count": null,
      "outputs": []
    },
    {
      "cell_type": "code",
      "metadata": {
        "id": "oiQtKjuqVoUt"
      },
      "source": [
        ""
      ],
      "execution_count": null,
      "outputs": []
    },
    {
      "cell_type": "code",
      "metadata": {
        "id": "q2-2Xe_-VoX7"
      },
      "source": [
        ""
      ],
      "execution_count": null,
      "outputs": []
    }
  ]
}